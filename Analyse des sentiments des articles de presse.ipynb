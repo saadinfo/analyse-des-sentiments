{
 "cells": [
  {
   "cell_type": "markdown",
   "metadata": {},
   "source": [
    "Le but de ce projet est de générer des informations sur l'investissement boursier en appliquant une analyse des sentiments de l'actualité financière. En utilisant cette technique de NLP, on peut comprendre l'émotion derrière les titres et prédire la position du marché par rapport aux actions d'une entreprise.\n",
    "\n",
    "### Le dataset utilisé\n",
    "On utilisera comme dataset les titres de l'actualité tirés de **Finviz.com**(On utilisera BeautifulSoup pour cela). On se focalisera sur deux entreprises **Facebook** et **Tesla** côtées en bourse, et qui alimentent constamment les actualités.\n",
    "Pourquoi les titres seulement ? Parce que les titres, qui ont une longueur similaire, sont plus faciles à analyser et à regrouper que les articles complets, qui varient en longueur.\n",
    "Finviz.com est une plateforme de recherche boursière qui offre des outils techniques et fondamentaux utiles pour les traders et les investisseurs. Finviz est l'abréviation de \"financial visualization\". Le site est surchargé de statistiques, de graphiques, de filtres, de heat maps, ainsi que de titres de nouvelles et de flux de médias sociaux.\n",
    "<p><img src=\"https://daytradereview.com/wp-content/uploads/2017/09/NewsStreamer.jpg\" alt=\"Facebook headlines from FINVIZ.com\"></p>\n",
    "\n",
    "Les titres des nouvelles d'actualité sont extraits de nombreux flux de nouvelles gratuits allant de PR Newswire, Briefing.com, MarketWatch, Bloomberg, CNN et NBC et des titres du Wall Street Journal. Les blogs sont également diffusés à partir de nombreuses sources gratuites tierces, notamment Seeking Alpha, Zero Hedge, Vantage Point Trading, Mish Talk, Calculated Risk, Ritholtz et Daily Reckoning.\n"
   ]
  },
  {
   "cell_type": "code",
   "execution_count": 20,
   "metadata": {},
   "outputs": [],
   "source": [
    "\n",
    "from bs4 import BeautifulSoup\n",
    "import pandas as pd\n",
    "import os\n",
    "\n",
    "html_tables = {}\n",
    "\n",
    "\n",
    "for table_name in os.listdir('datasets'):\n",
    "    \n",
    "    table_path = f'datasets/{table_name}'\n",
    "    \n",
    "    table_file = open(table_path, 'r')\n",
    "   \n",
    "    html = BeautifulSoup(table_file)\n",
    "   \n",
    "    html_table = html.find(id=\"news-table\")\n",
    "    \n",
    "    html_tables[table_name] = html_table"
   ]
  },
  {
   "cell_type": "markdown",
   "metadata": {},
   "source": [
    "### Extraction des données\n",
    "Dans cette partie, les titres d'actualités seront extraits de FinViz et traités pour préparer la Dataframe qui sera utilisée par la suite."
   ]
  },
  {
   "cell_type": "code",
   "execution_count": 21,
   "metadata": {},
   "outputs": [
    {
     "name": "stdout",
     "output_type": "stream",
     "text": [
      "0:\n",
      "Billionaire investor questions Elon Musk getting 'a pass' after bombshell tweets\n",
      "Sep-21-18 09:56PM  \n",
      "1:\n",
      "Broadcoms Stock Looks Like a Winner\n",
      "09:30PM  \n",
      "2:\n",
      "SHAREHOLDER ALERT:Â  Pomerantz Law Firm Reminds Shareholders with Losses on their Investment in Tesla, Inc. of Class Action Lawsuit and Upcoming Deadline  TSLA\n",
      "05:30PM  \n",
      "3:\n",
      "Tesla's People Problem and the Inscrutable Musk: 2 Things That Make You Go Hmmm\n",
      "05:30PM  \n"
     ]
    }
   ],
   "source": [
    "\n",
    "tsla = html_tables['tsla_22sep.html']\n",
    "\n",
    "tsla_tr = tsla.findAll('tr')\n",
    "\n",
    "\n",
    "for i, table_row in enumerate(tsla_tr):\n",
    "    \n",
    "    link_text = table_row.a.get_text()\n",
    "    \n",
    "    data_text = table_row.td.get_text()\n",
    "   \n",
    "    print(f'{i}:')\n",
    "   \n",
    "    print(link_text)\n",
    "    print(data_text)\n",
    "    \n",
    "    if i == 3:\n",
    "        break"
   ]
  },
  {
   "cell_type": "code",
   "execution_count": 22,
   "metadata": {},
   "outputs": [],
   "source": [
    "\n",
    "parsed_news = []\n",
    "\n",
    "for file_name, news_table in html_tables.items():\n",
    "    \n",
    "    for x in news_table.findAll('tr'):\n",
    "        \n",
    "        text = x.get_text() \n",
    "        headline = x.a.get_text()\n",
    "         \n",
    "        date_scrape = x.td.text.split()\n",
    "        \n",
    "        if  len(date_scrape) == 1:\n",
    "            time = date_scrape[0]\n",
    "        else:\n",
    "            date = date_scrape[0]\n",
    "            time = date_scrape[1]\n",
    "\n",
    "         \n",
    "        ticker = file_name.split('_')[0]\n",
    "       \n",
    "        parsed_news.append([ticker, date, time, headline])"
   ]
  },
  {
   "cell_type": "markdown",
   "metadata": {},
   "source": [
    "### Ajout de jargon financier\n",
    "L'analyse des sentiments est très sensible au contexte.À titre d'exemple, dire \"C'est tellement addictif!\" signifie souvent quelque chose de positif si le contexte est un jeu vidéo, mais cela signifie très souvent quelque chose de négatif lorsque nous parlons de drogues. Les journalistes financiers ont eux aussi, comme la plupart des professionnels, leur propre jargon. Faisons maintenant penser NLTK comme un journaliste financier en ajoutant de nouveaux mots et valeurs de sentiment à notre lexique."
   ]
  },
  {
   "cell_type": "code",
   "execution_count": 23,
   "metadata": {},
   "outputs": [],
   "source": [
    "from nltk.sentiment.vader import SentimentIntensityAnalyzer\n",
    "\n",
    "new_words = {\n",
    "    'crushes': 10,\n",
    "    'beats': 5,\n",
    "    'misses': -5,\n",
    "    'trouble': -10,\n",
    "    'falls': -100,\n",
    "}\n",
    "vader = SentimentIntensityAnalyzer()\n",
    "\n",
    "vader.lexicon.update(new_words)"
   ]
  },
  {
   "cell_type": "markdown",
   "metadata": {},
   "source": [
    "### Analyse des sentiments avec VADER\n",
    "VADER Sentiment Analysis. <a href=\"https://github.com/cjhutto/vaderSentiment#introduction\">VADER</a>  (Valence Aware Dictionary and sEntiment Reasoner) is a lexicon and rule-based sentiment analysis tool that is specifically attuned to sentiments expressed in social media, and works well on texts from other domains. "
   ]
  },
  {
   "cell_type": "code",
   "execution_count": 24,
   "metadata": {},
   "outputs": [],
   "source": [
    "\n",
    "columns = ['ticker', 'date', 'time', 'headline']\n",
    "\n",
    "scored_news = pd.DataFrame(parsed_news, columns=columns)\n",
    "\n",
    "scores = [vader.polarity_scores(headline) for headline in scored_news.headline.values]\n",
    "\n",
    "scores_df = pd.DataFrame(scores)\n",
    "\n",
    "scored_news = pd.concat([scored_news, scores_df], axis=1)\n",
    "\n",
    "scored_news['date'] = pd.to_datetime(scored_news.date).dt.date"
   ]
  },
  {
   "cell_type": "markdown",
   "metadata": {},
   "source": [
    "### Plot des scores\n",
    "Maintenant que nous avons les scores, commençons à tracer les résultats."
   ]
  },
  {
   "cell_type": "code",
   "execution_count": 25,
   "metadata": {},
   "outputs": [
    {
     "data": {
      "image/png": "[encoded data removed]",
      "text/plain": [
       "<Figure size 432x288 with 1 Axes>"
      ]
     },
     "metadata": {
      "needs_background": "light"
     },
     "output_type": "display_data"
    }
   ],
   "source": [
    "import matplotlib.pyplot as plt\n",
    "plt.style.use(\"fivethirtyeight\")\n",
    "%matplotlib inline\n",
    "\n",
    "\n",
    "mean_c = scored_news.groupby(['date', 'ticker']).mean()\n",
    "\n",
    "mean_c = mean_c.unstack(level=1)\n",
    "\n",
    "mean_c = mean_c.xs('compound', axis=1)\n",
    "\n",
    "mean_c.plot.bar()\n",
    "plt.savefig('scores.png')"
   ]
  },
  {
   "cell_type": "markdown",
   "metadata": {},
   "source": [
    "### Elimination des doublons\n",
    "Comme on peut le voir à la date du 22 novembre pour Tesla, le score paraît comme un point abérant. Après inspection, on se rend compte de quelques problèmes:\n",
    "+ Il n'y a que 5 titres pour cette journée.\n",
    "+ Deux gros titres sont textuellement identiques à un autre mais provenant d'un autre média.\n",
    "\n",
    "Alors que certains titres sont la même nouvelle provenant de différentes sources, le fait qu'ils soient écrits différemment pourrait fournir des perspectives différentes sur la même histoire. De plus, lorsqu'une nouvelle est plus importante, elle a tendance à obtenir plus de titres de plusieurs sources. Ce dont nous voulons nous débarrasser, ce sont les titres copiés textuellement, car ils proviennent très probablement du même journaliste et sont simplement \"dupliqués\"."
   ]
  },
  {
   "cell_type": "code",
   "execution_count": 26,
   "metadata": {},
   "outputs": [
    {
     "data": {
      "text/plain": [
       "'Before we had 500 headlines, now we have 476'"
      ]
     },
     "execution_count": 26,
     "metadata": {},
     "output_type": "execute_result"
    }
   ],
   "source": [
    "\n",
    "num_news_before = scored_news['headline'].count()\n",
    "\n",
    "scored_news_clean = scored_news.drop_duplicates(subset=['ticker', 'headline'])\n",
    "\n",
    "num_news_after = scored_news_clean['headline'].count()\n",
    "\n",
    "f\"Before we had {num_news_before} headlines, now we have {num_news_after}\""
   ]
  },
  {
   "cell_type": "markdown",
   "metadata": {},
   "source": [
    "### Plot des scores de Facebook"
   ]
  },
  {
   "cell_type": "code",
   "execution_count": 27,
   "metadata": {},
   "outputs": [],
   "source": [
    "\n",
    "single_day = scored_news_clean.set_index(['ticker', 'date'])\n",
    "\n",
    "single_day = single_day.loc['fb']\n",
    "\n",
    "single_day = single_day.loc['2019-01-03']\n",
    "\n",
    "single_day['time'] = pd.to_datetime(single_day['time'])\n",
    "single_day['time'] = single_day.time.dt.time \n",
    "\n",
    "single_day = single_day.set_index('time')\n",
    "\n",
    "single_day = single_day.sort_index(ascending=True)"
   ]
  },
  {
   "cell_type": "code",
   "execution_count": 28,
   "metadata": {},
   "outputs": [
    {
     "data": {
      "image/png": "[encoded data removed]",
      "text/plain": [
       "<Figure size 720x432 with 1 Axes>"
      ]
     },
     "metadata": {
      "needs_background": "light"
     },
     "output_type": "display_data"
    }
   ],
   "source": [
    "TITLE = \"Positive, negative and neutral sentiment for FB on 2020-01-03\"\n",
    "COLORS = [\"red\", \"orange\", \"green\"]\n",
    "\n",
    "plot_day = single_day.drop(['headline', 'compound'], axis=1)\n",
    "\n",
    "plot_day.columns = ['negative', 'neutral', 'positive']\n",
    "\n",
    "\n",
    "plot_day.plot.bar(stacked = True, \n",
    "                  figsize=(10, 6), \n",
    "                  title = TITLE, \n",
    "                  color = COLORS).legend(bbox_to_anchor=(1.2, 0.5))\n",
    "plt.ylabel(\"scores\");\n",
    "plt.savefig('FB_scores.png')"
   ]
  },
  {
   "cell_type": "markdown",
   "metadata": {},
   "source": [
    "### comparaison des données"
   ]
  },
  {
   "cell_type": "code",
   "execution_count": 29,
   "metadata": {},
   "outputs": [],
   "source": [
    "fb = pd.read_csv(\"FB.csv\")\n",
    "tsla = pd.read_csv(\"TSLA.csv\")\n",
    "fb.Date = pd.to_datetime(fb.Date).dt.date\n",
    "tsla.Date = pd.to_datetime(tsla.Date).dt.date\n",
    "\n",
    "fb = fb.set_index('Date')\n",
    "fb.index.name = 'date'\n",
    "fb = fb.drop(fb.columns[[0, 1,2,4,5]], axis=1)\n",
    "fb=(fb-fb.mean())/fb.std()\n",
    "\n",
    "tsla = tsla.set_index('Date')\n",
    "tsla.index.name = 'date'\n",
    "tsla = tsla.drop(tsla.columns[[0, 1,2,4,5]], axis=1)\n",
    "tsla=(tsla-tsla.mean())/tsla.std()"
   ]
  },
  {
   "cell_type": "code",
   "execution_count": 30,
   "metadata": {},
   "outputs": [],
   "source": [
    "joined_fb = fb.join(mean_c['fb'],how='outer')\n",
    "joined_tsla = tsla.join(mean_c['tsla'],how='outer')\n",
    "\n",
    "joined_fb.index = pd.to_datetime(joined_fb.index)\n",
    "joined_tsla.index = pd.to_datetime(joined_tsla.index)"
   ]
  },
  {
   "cell_type": "code",
   "execution_count": 31,
   "metadata": {},
   "outputs": [
    {
     "data": {
      "image/png": "[encoded data removed]",
      "text/plain": [
       "<Figure size 1440x720 with 1 Axes>"
      ]
     },
     "metadata": {
      "needs_background": "light"
     },
     "output_type": "display_data"
    }
   ],
   "source": [
    "joined_fb.loc['2018-09-18':'2019-01-04'].plot(kind = 'bar',figsize = (20,10), use_index = False)\n",
    "plt.savefig('fb_stock.png')"
   ]
  },
  {
   "cell_type": "code",
   "execution_count": 32,
   "metadata": {},
   "outputs": [
    {
     "data": {
      "image/png": "[encoded data removed]",
      "text/plain": [
       "<Figure size 1440x720 with 1 Axes>"
      ]
     },
     "metadata": {
      "needs_background": "light"
     },
     "output_type": "display_data"
    }
   ],
   "source": [
    "joined_tsla.loc['2018-09-18':'2019-01-04'].plot(kind = 'bar',figsize = (20,10), use_index = False)\n",
    "plt.savefig('tsla_stock.png')"
   ]
  },
  {
   "cell_type": "code",
   "execution_count": null,
   "metadata": {},
   "outputs": [],
   "source": []
  }
 ],
 "metadata": {
  "kernelspec": {
   "display_name": "Python 3",
   "language": "python",
   "name": "python3"
  },
  "language_info": {
   "codemirror_mode": {
    "name": "ipython",
    "version": 3
   },
   "file_extension": ".py",
   "mimetype": "text/x-python",
   "name": "python",
   "nbconvert_exporter": "python",
   "pygments_lexer": "ipython3",
   "version": "3.7.6"
  }
 },
 "nbformat": 4,
 "nbformat_minor": 2
}
